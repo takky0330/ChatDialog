{
  "nbformat": 4,
  "nbformat_minor": 0,
  "metadata": {
    "colab": {
      "name": "Dialog-Evaluation.ipynb",
      "provenance": [],
      "private_outputs": true,
      "collapsed_sections": [],
      "include_colab_link": true
    },
    "kernelspec": {
      "name": "python3",
      "display_name": "Python 3"
    },
    "accelerator": "GPU"
  },
  "cells": [
    {
      "cell_type": "markdown",
      "metadata": {
        "id": "view-in-github",
        "colab_type": "text"
      },
      "source": [
        "<a href=\"https://colab.research.google.com/github/takky0330/ChatDialog/blob/master/notebooks/Dialog_Evaluation.ipynb\" target=\"_parent\"><img src=\"https://colab.research.google.com/assets/colab-badge.svg\" alt=\"Open In Colab\"/></a>"
      ]
    },
    {
      "cell_type": "markdown",
      "metadata": {
        "id": "u_z9LEtq02_C",
        "colab_type": "text"
      },
      "source": [
        "# Dialog\n",
        "This notebook show you sample training example.  \n",
        "You run all cells and can talk with pretrained model.\n"
      ]
    },
    {
      "cell_type": "markdown",
      "metadata": {
        "id": "S_5c9sCFy_pj",
        "colab_type": "text"
      },
      "source": [
        "## Clone Dialog repo"
      ]
    },
    {
      "cell_type": "code",
      "metadata": {
        "id": "sruFp2j1y3kM",
        "colab_type": "code",
        "colab": {}
      },
      "source": [
        "!git clone https://github.com/reppy4620/Dialog.git\n",
        "%cd Dialog\n",
        "!mkdir data"
      ],
      "execution_count": null,
      "outputs": []
    },
    {
      "cell_type": "markdown",
      "metadata": {
        "id": "_XmNS6Lh0GGg",
        "colab_type": "text"
      },
      "source": [
        "## Install Packages"
      ]
    },
    {
      "cell_type": "code",
      "metadata": {
        "id": "3aS1KHL00Kwv",
        "colab_type": "code",
        "colab": {}
      },
      "source": [
        "!pip install transformers tqdm neologdn emoji"
      ],
      "execution_count": null,
      "outputs": []
    },
    {
      "cell_type": "code",
      "metadata": {
        "id": "BVNPlnBF0Wug",
        "colab_type": "code",
        "colab": {}
      },
      "source": [
        "!apt install aptitude\n",
        "!aptitude install mecab libmecab-dev mecab-ipadic-utf8 git make curl xz-utils file -y\n",
        "!pip install mecab-python3"
      ],
      "execution_count": null,
      "outputs": []
    },
    {
      "cell_type": "markdown",
      "metadata": {
        "id": "dU_NaSg80DOx",
        "colab_type": "text"
      },
      "source": [
        "## Download Training Data"
      ]
    },
    {
      "cell_type": "code",
      "metadata": {
        "id": "R9z8GK4EyvCN",
        "colab_type": "code",
        "colab": {}
      },
      "source": [
        "# taken from https://github.com/nsadawi/Download-Large-File-From-Google-Drive-Using-Python\n",
        "import requests\n",
        "\n",
        "def download_file_from_google_drive(id, destination):\n",
        "    URL = \"https://docs.google.com/uc?export=download\"\n",
        "\n",
        "    session = requests.Session()\n",
        "\n",
        "    response = session.get(URL, params = { 'id' : id }, stream = True)\n",
        "    token = get_confirm_token(response)\n",
        "\n",
        "    if token:\n",
        "        params = { 'id' : id, 'confirm' : token }\n",
        "        response = session.get(URL, params = params, stream = True)\n",
        "\n",
        "    save_response_content(response, destination)    \n",
        "\n",
        "def get_confirm_token(response):\n",
        "    for key, value in response.cookies.items():\n",
        "        if key.startswith('download_warning'):\n",
        "            return value\n",
        "\n",
        "    return None\n",
        "\n",
        "def save_response_content(response, destination):\n",
        "    CHUNK_SIZE = 32768\n",
        "\n",
        "    with open(destination, \"wb\") as f:\n",
        "        for chunk in response.iter_content(CHUNK_SIZE):\n",
        "            if chunk: # filter out keep-alive new chunks\n",
        "                f.write(chunk)"
      ],
      "execution_count": null,
      "outputs": []
    },
    {
      "cell_type": "code",
      "metadata": {
        "id": "B2SPAG0Ly23S",
        "colab_type": "code",
        "colab": {}
      },
      "source": [
        "# Download training data\n",
        "file_id = '1DubBO3fagYccVuKwrIVa4zGvsCzW7FCr'\n",
        "destination = './data/ckpt.pth'\n",
        "download_file_from_google_drive(file_id, destination)"
      ],
      "execution_count": null,
      "outputs": []
    },
    {
      "cell_type": "markdown",
      "metadata": {
        "id": "DmMUSwNW1Tli",
        "colab_type": "text"
      },
      "source": [
        "## Execute Main Script"
      ]
    },
    {
      "cell_type": "code",
      "metadata": {
        "id": "K6HriQh6y202",
        "colab_type": "code",
        "colab": {}
      },
      "source": [
        "!python run_eval.py"
      ],
      "execution_count": null,
      "outputs": []
    }
  ]
}