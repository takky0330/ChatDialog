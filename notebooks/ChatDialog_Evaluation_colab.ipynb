{
  "nbformat": 4,
  "nbformat_minor": 0,
  "metadata": {
    "colab": {
      "name": "CharDialog-Evaluation.ipynb",
      "provenance": [],
      "private_outputs": true,
      "collapsed_sections": [],
      "include_colab_link": true
    },
    "kernelspec": {
      "name": "python3",
      "display_name": "Python 3"
    },
    "accelerator": "GPU"
  },
  "cells": [
    {
      "cell_type": "markdown",
      "metadata": {
        "id": "view-in-github",
        "colab_type": "text"
      },
      "source": [
        "<a href=\"https://colab.research.google.com/github/takky0330/ChatDialog/blob/master/notebooks/ChatDialog_Evaluation_colab.ipynb\" target=\"_parent\"><img src=\"https://colab.research.google.com/assets/colab-badge.svg\" alt=\"Open In Colab\"/></a>"
      ]
    },
    {
      "cell_type": "markdown",
      "metadata": {
        "id": "u_z9LEtq02_C",
        "colab_type": "text"
      },
      "source": [
        "# Dialog\n",
        "This notebook show you sample training example.  \n",
        "You run all cells and can talk with pretrained model.\n"
      ]
    },
    {
      "cell_type": "markdown",
      "metadata": {
        "id": "S_5c9sCFy_pj",
        "colab_type": "text"
      },
      "source": [
        "## Clone Dialog repo"
      ]
    },
    {
      "cell_type": "code",
      "metadata": {
        "id": "sruFp2j1y3kM",
        "colab_type": "code",
        "colab": {}
      },
      "source": [
        "import os\n",
        "%cd /content\n",
        "if os.path.exists('ChatDialog'):\n",
        "  %rm -rf ChatDialog\n",
        "!git clone https://github.com/takky0330/ChatDialog.git\n",
        "%cd ChatDialog\n",
        "if os.path.exists('data') == False:\n",
        "  !mkdir data"
      ],
      "execution_count": null,
      "outputs": []
    },
    {
      "cell_type": "markdown",
      "metadata": {
        "id": "_XmNS6Lh0GGg",
        "colab_type": "text"
      },
      "source": [
        "## Install Packages"
      ]
    },
    {
      "cell_type": "code",
      "metadata": {
        "id": "3aS1KHL00Kwv",
        "colab_type": "code",
        "colab": {}
      },
      "source": [
        "!pip install tqdm neologdn emoji\n",
        "#!pip install git+git://github.com/huggingface/transformers.git\n",
        "!pip install transformers==2.5.1\n",
        "#!pip install transformers"
      ],
      "execution_count": null,
      "outputs": []
    },
    {
      "cell_type": "code",
      "metadata": {
        "id": "BVNPlnBF0Wug",
        "colab_type": "code",
        "colab": {}
      },
      "source": [
        "!apt install aptitude\n",
        "!aptitude install mecab libmecab-dev mecab-ipadic-utf8 git make curl xz-utils file -y\n",
        "#!pip install mecab-python3\n",
        "!pip install mecab-python3==0.996.2\n",
        "!!pip install unidic-lite"
      ],
      "execution_count": null,
      "outputs": []
    },
    {
      "cell_type": "markdown",
      "metadata": {
        "id": "dU_NaSg80DOx",
        "colab_type": "text"
      },
      "source": [
        "## Download Training Data"
      ]
    },
    {
      "cell_type": "code",
      "metadata": {
        "id": "R9z8GK4EyvCN",
        "colab_type": "code",
        "colab": {}
      },
      "source": [
        "# taken from https://github.com/nsadawi/Download-Large-File-From-Google-Drive-Using-Python\n",
        "import requests\n",
        "\n",
        "def download_file_from_google_drive(id, destination):\n",
        "    URL = \"https://docs.google.com/uc?export=download\"\n",
        "\n",
        "    session = requests.Session()\n",
        "\n",
        "    response = session.get(URL, params = { 'id' : id }, stream = True)\n",
        "    token = get_confirm_token(response)\n",
        "\n",
        "    if token:\n",
        "        params = { 'id' : id, 'confirm' : token }\n",
        "        response = session.get(URL, params = params, stream = True)\n",
        "\n",
        "    save_response_content(response, destination)    \n",
        "\n",
        "def get_confirm_token(response):\n",
        "    for key, value in response.cookies.items():\n",
        "        if key.startswith('download_warning'):\n",
        "            return value\n",
        "\n",
        "    return None\n",
        "\n",
        "def save_response_content(response, destination):\n",
        "    CHUNK_SIZE = 32768\n",
        "\n",
        "    with open(destination, \"wb\") as f:\n",
        "        for chunk in response.iter_content(CHUNK_SIZE):\n",
        "            if chunk: # filter out keep-alive new chunks\n",
        "                f.write(chunk)"
      ],
      "execution_count": null,
      "outputs": []
    },
    {
      "cell_type": "code",
      "metadata": {
        "id": "B2SPAG0Ly23S",
        "colab_type": "code",
        "colab": {}
      },
      "source": [
        "# Download training data\n",
        "#file_id = '1DubBO3fagYccVuKwrIVa4zGvsCzW7FCr'\n",
        "#destination = './data/ckpt.pth'\n",
        "### file_id = '1Jk7jkJpX3plQyN55nMvO-TS82jdrRKom'\n",
        "### download_file_from_google_drive(file_id, destination)\n",
        "\n",
        "destination = 'ckpt_Xsmall_cpu.pth'\n",
        "if os.path.exists(destination) == False:\n",
        "### なにやらDLでは上手くいかなくなった… ので、GoogleDriveからコピーする\n",
        "  from google.colab import drive\n",
        "  drive.mount('/content/drive')\n",
        "  import shutil\n",
        "  shutil.copyfile('/content/drive/My Drive/ChatDialog_data/' + destination, './data/' + destination)\n"
      ],
      "execution_count": null,
      "outputs": []
    },
    {
      "cell_type": "code",
      "metadata": {
        "id": "wxh4M2qjG6eG",
        "colab_type": "code",
        "colab": {}
      },
      "source": [
        "! ls ./data"
      ],
      "execution_count": null,
      "outputs": []
    },
    {
      "cell_type": "markdown",
      "metadata": {
        "id": "DmMUSwNW1Tli",
        "colab_type": "text"
      },
      "source": [
        "## Execute Main Script"
      ]
    },
    {
      "cell_type": "code",
      "metadata": {
        "id": "K6HriQh6y202",
        "colab_type": "code",
        "colab": {}
      },
      "source": [
        "!python run_eval.py"
      ],
      "execution_count": null,
      "outputs": []
    },
    {
      "cell_type": "code",
      "metadata": {
        "id": "3LSkkOAOqnGp",
        "colab_type": "code",
        "colab": {}
      },
      "source": [
        "!rm ./data/ckpt_Xsmall_cpu.pth"
      ],
      "execution_count": null,
      "outputs": []
    },
    {
      "cell_type": "code",
      "metadata": {
        "id": "RsN5tY3ZwE9n",
        "colab_type": "code",
        "colab": {}
      },
      "source": [
        ""
      ],
      "execution_count": null,
      "outputs": []
    }
  ]
}